{
 "cells": [
  {
   "cell_type": "code",
   "execution_count": 1,
   "metadata": {
    "collapsed": false
   },
   "outputs": [],
   "source": [
    "from __future__ import division\n",
    "import numpy as np\n",
    "import pandas as pd\n",
    "from sklearn.linear_model import LinearRegression\n",
    "from sklearn.linear_model import Ridge\n",
    "from sklearn.linear_model import Lasso\n",
    "from sklearn.linear_model import ElasticNet\n",
    "from sklearn.metrics import mean_squared_error\n",
    "from sklearn.cross_validation import train_test_split\n",
    "from statsmodels.graphics.gofplots import qqplot\n",
    "from statsmodels.stats.diagnostic import het_breushpagan\n",
    "import statsmodels.api as sm\n",
    "import statsmodels.formula.api as smf\n",
    "import matplotlib.pyplot as plt\n",
    "% matplotlib inline"
   ]
  },
  {
   "cell_type": "code",
   "execution_count": 6,
   "metadata": {
    "collapsed": false
   },
   "outputs": [],
   "source": [
    "energy = pd.read_csv('Energy_Performance.csv', na_values='?')"
   ]
  },
  {
   "cell_type": "code",
   "execution_count": 7,
   "metadata": {
    "collapsed": false
   },
   "outputs": [
    {
     "data": {
      "text/plain": [
       "(661, 9)"
      ]
     },
     "execution_count": 7,
     "metadata": {},
     "output_type": "execute_result"
    }
   ],
   "source": [
    "energy = energy.dropna()\n",
    "energy.head()\n",
    "#energy.pop('2014-15 Percent Better than National Median Site EUI')\n",
    "#energy.pop('2014-15 Percent Better than National Median Source EUI')\n",
    "energy.shape"
   ]
  },
  {
   "cell_type": "code",
   "execution_count": 8,
   "metadata": {
    "collapsed": false
   },
   "outputs": [
    {
     "data": {
      "text/html": [
       "<div>\n",
       "<table border=\"1\" class=\"dataframe\">\n",
       "  <thead>\n",
       "    <tr style=\"text-align: right;\">\n",
       "      <th></th>\n",
       "      <th>Property_Type</th>\n",
       "      <th>ENERGY_STAR_Score</th>\n",
       "      <th>SiteEUI</th>\n",
       "      <th>SourceEUI</th>\n",
       "      <th>GHG_Emissions</th>\n",
       "      <th>GHG_Emissions_Intensity</th>\n",
       "      <th>Weather_Site_EUI</th>\n",
       "      <th>Weather_Source_EUI</th>\n",
       "      <th>Floor_Area</th>\n",
       "    </tr>\n",
       "  </thead>\n",
       "  <tbody>\n",
       "    <tr>\n",
       "      <th>5</th>\n",
       "      <td>Office</td>\n",
       "      <td>95</td>\n",
       "      <td>36.3</td>\n",
       "      <td>99.9</td>\n",
       "      <td>238.0</td>\n",
       "      <td>2.8</td>\n",
       "      <td>36.9</td>\n",
       "      <td>100.6</td>\n",
       "      <td>97025</td>\n",
       "    </tr>\n",
       "    <tr>\n",
       "      <th>8</th>\n",
       "      <td>Office</td>\n",
       "      <td>89</td>\n",
       "      <td>55.1</td>\n",
       "      <td>158.0</td>\n",
       "      <td>2401.0</td>\n",
       "      <td>4.3</td>\n",
       "      <td>55.8</td>\n",
       "      <td>158.7</td>\n",
       "      <td>700079</td>\n",
       "    </tr>\n",
       "    <tr>\n",
       "      <th>19</th>\n",
       "      <td>Office</td>\n",
       "      <td>95</td>\n",
       "      <td>50.1</td>\n",
       "      <td>130.1</td>\n",
       "      <td>1063.7</td>\n",
       "      <td>3.7</td>\n",
       "      <td>51.7</td>\n",
       "      <td>131.8</td>\n",
       "      <td>286510</td>\n",
       "    </tr>\n",
       "    <tr>\n",
       "      <th>22</th>\n",
       "      <td>Office</td>\n",
       "      <td>91</td>\n",
       "      <td>53.7</td>\n",
       "      <td>145.2</td>\n",
       "      <td>1449.5</td>\n",
       "      <td>4.1</td>\n",
       "      <td>53.9</td>\n",
       "      <td>145.1</td>\n",
       "      <td>420700</td>\n",
       "    </tr>\n",
       "    <tr>\n",
       "      <th>25</th>\n",
       "      <td>Worship Facility</td>\n",
       "      <td>97</td>\n",
       "      <td>10.4</td>\n",
       "      <td>24.0</td>\n",
       "      <td>27.9</td>\n",
       "      <td>0.7</td>\n",
       "      <td>10.4</td>\n",
       "      <td>24.0</td>\n",
       "      <td>38051</td>\n",
       "    </tr>\n",
       "  </tbody>\n",
       "</table>\n",
       "</div>"
      ],
      "text/plain": [
       "       Property_Type  ENERGY_STAR_Score  SiteEUI  SourceEUI  GHG_Emissions  \\\n",
       "5             Office                 95     36.3       99.9          238.0   \n",
       "8             Office                 89     55.1      158.0         2401.0   \n",
       "19            Office                 95     50.1      130.1         1063.7   \n",
       "22            Office                 91     53.7      145.2         1449.5   \n",
       "25  Worship Facility                 97     10.4       24.0           27.9   \n",
       "\n",
       "    GHG_Emissions_Intensity  Weather_Site_EUI  Weather_Source_EUI  Floor_Area  \n",
       "5                       2.8              36.9               100.6       97025  \n",
       "8                       4.3              55.8               158.7      700079  \n",
       "19                      3.7              51.7               131.8      286510  \n",
       "22                      4.1              53.9               145.1      420700  \n",
       "25                      0.7              10.4                24.0       38051  "
      ]
     },
     "execution_count": 8,
     "metadata": {},
     "output_type": "execute_result"
    }
   ],
   "source": [
    "energy.head()"
   ]
  },
  {
   "cell_type": "code",
   "execution_count": 9,
   "metadata": {
    "collapsed": false
   },
   "outputs": [],
   "source": [
    "Office = energy[energy['Property_Type'] == \"Office\"]\n",
    "Worship_Facility = energy[energy['Property_Type'] == \"Worship Facility\"]\n",
    "Bank_Branch = energy[energy['Property_Type'] == \"Bank Branch\"]\n",
    "Data_Center = energy[energy['Property_Type'] == \"Data Center\"]\n",
    "Distribution_Center = energy[energy['Property_Type'] == \"Distribution Center\"]\n",
    "Financial_Office = energy[energy['Property_Type'] == \"Financial Office\"]\n",
    "Hospital = energy[energy['Property_Type'] == 'Hospital (General Medical & Surgical)']\n",
    "Hotel = energy[energy['Property_Type'] == 'Hotel']\n",
    "School = energy[energy['Property_Type'] == 'K-12 School']\n",
    "Medical_office = energy[energy['Property_Type'] == 'Medical Office']\n",
    "Mixed_use_property = energy[energy['Property_Type'] == 'Mixed Use Property']\n",
    "Multifamily_Housing = energy[energy['Property_Type'] == 'Multifamily Housing']\n",
    "Non_Refrigerated_Warehouse = energy[energy['Property_Type'] == 'Non-Refrigerated Warehouse']\n",
    "Other_Specialty_Hospital = energy[energy['Property_Type'] == 'Other - Specialty Hospital']\n",
    "Refrigerated_Warehouse = energy[energy['Property_Type'] == 'Refrigerated Warehouse']\n",
    "Retail_Store = energy[energy['Property_Type'] == 'Retail Store']\n",
    "Senior_Care_Community = energy[energy['Property_Type'] == 'Senior Care Community']\n",
    "Supermarket_Grocery_Store = energy[energy['Property_Type'] == 'Supermarket/Grocery Store']"
   ]
  },
  {
   "cell_type": "code",
   "execution_count": 134,
   "metadata": {
    "collapsed": false
   },
   "outputs": [
    {
     "data": {
      "text/html": [
       "<div>\n",
       "<table border=\"1\" class=\"dataframe\">\n",
       "  <thead>\n",
       "    <tr style=\"text-align: right;\">\n",
       "      <th></th>\n",
       "      <th>Property_Type</th>\n",
       "      <th>ENERGY_STAR_Score</th>\n",
       "      <th>SiteEUI</th>\n",
       "      <th>SourceEUI</th>\n",
       "      <th>GHG_Emissions</th>\n",
       "      <th>GHG_Emissions_Intensity</th>\n",
       "      <th>Weather_Site_EUI</th>\n",
       "      <th>Weather_Source_EUI</th>\n",
       "      <th>Floor_Area</th>\n",
       "    </tr>\n",
       "  </thead>\n",
       "  <tbody>\n",
       "    <tr>\n",
       "      <th>5</th>\n",
       "      <td>Office</td>\n",
       "      <td>95</td>\n",
       "      <td>36.3</td>\n",
       "      <td>99.9</td>\n",
       "      <td>238.0</td>\n",
       "      <td>2.8</td>\n",
       "      <td>36.9</td>\n",
       "      <td>100.6</td>\n",
       "      <td>97025</td>\n",
       "    </tr>\n",
       "    <tr>\n",
       "      <th>8</th>\n",
       "      <td>Office</td>\n",
       "      <td>89</td>\n",
       "      <td>55.1</td>\n",
       "      <td>158.0</td>\n",
       "      <td>2401.0</td>\n",
       "      <td>4.3</td>\n",
       "      <td>55.8</td>\n",
       "      <td>158.7</td>\n",
       "      <td>700079</td>\n",
       "    </tr>\n",
       "    <tr>\n",
       "      <th>19</th>\n",
       "      <td>Office</td>\n",
       "      <td>95</td>\n",
       "      <td>50.1</td>\n",
       "      <td>130.1</td>\n",
       "      <td>1063.7</td>\n",
       "      <td>3.7</td>\n",
       "      <td>51.7</td>\n",
       "      <td>131.8</td>\n",
       "      <td>286510</td>\n",
       "    </tr>\n",
       "    <tr>\n",
       "      <th>22</th>\n",
       "      <td>Office</td>\n",
       "      <td>91</td>\n",
       "      <td>53.7</td>\n",
       "      <td>145.2</td>\n",
       "      <td>1449.5</td>\n",
       "      <td>4.1</td>\n",
       "      <td>53.9</td>\n",
       "      <td>145.1</td>\n",
       "      <td>420700</td>\n",
       "    </tr>\n",
       "    <tr>\n",
       "      <th>26</th>\n",
       "      <td>Office</td>\n",
       "      <td>63</td>\n",
       "      <td>95.2</td>\n",
       "      <td>192.0</td>\n",
       "      <td>499.8</td>\n",
       "      <td>6.3</td>\n",
       "      <td>94.5</td>\n",
       "      <td>189.7</td>\n",
       "      <td>94000</td>\n",
       "    </tr>\n",
       "  </tbody>\n",
       "</table>\n",
       "</div>"
      ],
      "text/plain": [
       "   Property_Type  ENERGY_STAR_Score  SiteEUI  SourceEUI  GHG_Emissions  \\\n",
       "5         Office                 95     36.3       99.9          238.0   \n",
       "8         Office                 89     55.1      158.0         2401.0   \n",
       "19        Office                 95     50.1      130.1         1063.7   \n",
       "22        Office                 91     53.7      145.2         1449.5   \n",
       "26        Office                 63     95.2      192.0          499.8   \n",
       "\n",
       "    GHG_Emissions_Intensity  Weather_Site_EUI  Weather_Source_EUI  Floor_Area  \n",
       "5                       2.8              36.9               100.6       97025  \n",
       "8                       4.3              55.8               158.7      700079  \n",
       "19                      3.7              51.7               131.8      286510  \n",
       "22                      4.1              53.9               145.1      420700  \n",
       "26                      6.3              94.5               189.7       94000  "
      ]
     },
     "execution_count": 134,
     "metadata": {},
     "output_type": "execute_result"
    }
   ],
   "source": [
    "Office.head()"
   ]
  },
  {
   "cell_type": "code",
   "execution_count": 23,
   "metadata": {
    "collapsed": false,
    "scrolled": true
   },
   "outputs": [
    {
     "data": {
      "text/html": [
       "<table class=\"simpletable\">\n",
       "<caption>OLS Regression Results</caption>\n",
       "<tr>\n",
       "  <th>Dep. Variable:</th>    <td>ENERGY_STAR_Score</td> <th>  R-squared:         </th> <td>   0.657</td>\n",
       "</tr>\n",
       "<tr>\n",
       "  <th>Model:</th>                   <td>OLS</td>        <th>  Adj. R-squared:    </th> <td>   0.651</td>\n",
       "</tr>\n",
       "<tr>\n",
       "  <th>Method:</th>             <td>Least Squares</td>   <th>  F-statistic:       </th> <td>   115.8</td>\n",
       "</tr>\n",
       "<tr>\n",
       "  <th>Date:</th>             <td>Thu, 23 Jun 2016</td>  <th>  Prob (F-statistic):</th> <td>3.41e-94</td>\n",
       "</tr>\n",
       "<tr>\n",
       "  <th>Time:</th>                 <td>10:10:18</td>      <th>  Log-Likelihood:    </th> <td> -1706.3</td>\n",
       "</tr>\n",
       "<tr>\n",
       "  <th>No. Observations:</th>      <td>   431</td>       <th>  AIC:               </th> <td>   3429.</td>\n",
       "</tr>\n",
       "<tr>\n",
       "  <th>Df Residuals:</th>          <td>   423</td>       <th>  BIC:               </th> <td>   3461.</td>\n",
       "</tr>\n",
       "<tr>\n",
       "  <th>Df Model:</th>              <td>     7</td>       <th>                     </th>     <td> </td>   \n",
       "</tr>\n",
       "<tr>\n",
       "  <th>Covariance Type:</th>      <td>nonrobust</td>     <th>                     </th>     <td> </td>   \n",
       "</tr>\n",
       "</table>\n",
       "<table class=\"simpletable\">\n",
       "<tr>\n",
       "             <td></td>                <th>coef</th>     <th>std err</th>      <th>t</th>      <th>P>|t|</th>  <th>[0.025</th>    <th>0.975]</th>  \n",
       "</tr>\n",
       "<tr>\n",
       "  <th>const</th>                   <td>  111.6197</td> <td>    1.776</td> <td>   62.844</td> <td> 0.000</td> <td>  108.129</td> <td>  115.111</td>\n",
       "</tr>\n",
       "<tr>\n",
       "  <th>SiteEUI</th>                 <td>    0.6186</td> <td>    1.379</td> <td>    0.449</td> <td> 0.654</td> <td>   -2.092</td> <td>    3.329</td>\n",
       "</tr>\n",
       "<tr>\n",
       "  <th>SourceEUI</th>               <td>   -1.4938</td> <td>    0.901</td> <td>   -1.657</td> <td> 0.098</td> <td>   -3.266</td> <td>    0.278</td>\n",
       "</tr>\n",
       "<tr>\n",
       "  <th>GHG_Emissions</th>           <td>    0.0010</td> <td>    0.002</td> <td>    0.511</td> <td> 0.609</td> <td>   -0.003</td> <td>    0.005</td>\n",
       "</tr>\n",
       "<tr>\n",
       "  <th>GHG_Emissions_Intensity</th> <td>    0.2824</td> <td>    3.504</td> <td>    0.081</td> <td> 0.936</td> <td>   -6.604</td> <td>    7.169</td>\n",
       "</tr>\n",
       "<tr>\n",
       "  <th>Weather_Site_EUI</th>        <td>   -0.8187</td> <td>    1.356</td> <td>   -0.604</td> <td> 0.546</td> <td>   -3.485</td> <td>    1.847</td>\n",
       "</tr>\n",
       "<tr>\n",
       "  <th>Weather_Source_EUI</th>      <td>    1.2815</td> <td>    0.903</td> <td>    1.419</td> <td> 0.157</td> <td>   -0.493</td> <td>    3.056</td>\n",
       "</tr>\n",
       "<tr>\n",
       "  <th>Floor_Area</th>              <td> 2.513e-05</td> <td> 8.15e-06</td> <td>    3.081</td> <td> 0.002</td> <td>  9.1e-06</td> <td> 4.12e-05</td>\n",
       "</tr>\n",
       "</table>\n",
       "<table class=\"simpletable\">\n",
       "<tr>\n",
       "  <th>Omnibus:</th>       <td>51.817</td> <th>  Durbin-Watson:     </th> <td>   1.997</td>\n",
       "</tr>\n",
       "<tr>\n",
       "  <th>Prob(Omnibus):</th> <td> 0.000</td> <th>  Jarque-Bera (JB):  </th> <td>  83.916</td>\n",
       "</tr>\n",
       "<tr>\n",
       "  <th>Skew:</th>          <td>-0.759</td> <th>  Prob(JB):          </th> <td>6.00e-19</td>\n",
       "</tr>\n",
       "<tr>\n",
       "  <th>Kurtosis:</th>      <td> 4.539</td> <th>  Cond. No.          </th> <td>1.78e+06</td>\n",
       "</tr>\n",
       "</table>"
      ],
      "text/plain": [
       "<class 'statsmodels.iolib.summary.Summary'>\n",
       "\"\"\"\n",
       "                            OLS Regression Results                            \n",
       "==============================================================================\n",
       "Dep. Variable:      ENERGY_STAR_Score   R-squared:                       0.657\n",
       "Model:                            OLS   Adj. R-squared:                  0.651\n",
       "Method:                 Least Squares   F-statistic:                     115.8\n",
       "Date:                Thu, 23 Jun 2016   Prob (F-statistic):           3.41e-94\n",
       "Time:                        10:10:18   Log-Likelihood:                -1706.3\n",
       "No. Observations:                 431   AIC:                             3429.\n",
       "Df Residuals:                     423   BIC:                             3461.\n",
       "Df Model:                           7                                         \n",
       "Covariance Type:            nonrobust                                         \n",
       "===========================================================================================\n",
       "                              coef    std err          t      P>|t|      [0.025      0.975]\n",
       "-------------------------------------------------------------------------------------------\n",
       "const                     111.6197      1.776     62.844      0.000     108.129     115.111\n",
       "SiteEUI                     0.6186      1.379      0.449      0.654      -2.092       3.329\n",
       "SourceEUI                  -1.4938      0.901     -1.657      0.098      -3.266       0.278\n",
       "GHG_Emissions               0.0010      0.002      0.511      0.609      -0.003       0.005\n",
       "GHG_Emissions_Intensity     0.2824      3.504      0.081      0.936      -6.604       7.169\n",
       "Weather_Site_EUI           -0.8187      1.356     -0.604      0.546      -3.485       1.847\n",
       "Weather_Source_EUI          1.2815      0.903      1.419      0.157      -0.493       3.056\n",
       "Floor_Area               2.513e-05   8.15e-06      3.081      0.002     9.1e-06    4.12e-05\n",
       "==============================================================================\n",
       "Omnibus:                       51.817   Durbin-Watson:                   1.997\n",
       "Prob(Omnibus):                  0.000   Jarque-Bera (JB):               83.916\n",
       "Skew:                          -0.759   Prob(JB):                     6.00e-19\n",
       "Kurtosis:                       4.539   Cond. No.                     1.78e+06\n",
       "==============================================================================\n",
       "\n",
       "Warnings:\n",
       "[1] Standard Errors assume that the covariance matrix of the errors is correctly specified.\n",
       "[2] The condition number is large, 1.78e+06. This might indicate that there are\n",
       "strong multicollinearity or other numerical problems.\n",
       "\"\"\""
      ]
     },
     "execution_count": 23,
     "metadata": {},
     "output_type": "execute_result"
    }
   ],
   "source": [
    "X = Office[[ 'SiteEUI', 'SourceEUI','GHG_Emissions','GHG_Emissions_Intensity','Weather_Site_EUI','Weather_Source_EUI','Floor_Area']]\n",
    "X = sm.add_constant(X)\n",
    "y = Office['ENERGY_STAR_Score']\n",
    "\n",
    "model= sm.OLS(y,X)\n",
    "\n",
    "result = model.fit()\n",
    "\n",
    "result.summary()"
   ]
  },
  {
   "cell_type": "code",
   "execution_count": 24,
   "metadata": {
    "collapsed": false
   },
   "outputs": [
    {
     "data": {
      "text/plain": [
       "const                      111.619727\n",
       "SiteEUI                      0.618579\n",
       "SourceEUI                   -1.493758\n",
       "GHG_Emissions                0.000955\n",
       "GHG_Emissions_Intensity      0.282380\n",
       "Weather_Site_EUI            -0.818716\n",
       "Weather_Source_EUI           1.281544\n",
       "Floor_Area                   0.000025\n",
       "dtype: float64"
      ]
     },
     "execution_count": 24,
     "metadata": {},
     "output_type": "execute_result"
    }
   ],
   "source": [
    "result.params"
   ]
  },
  {
   "cell_type": "code",
   "execution_count": 39,
   "metadata": {
    "collapsed": true
   },
   "outputs": [],
   "source": [
    "# Make a guess at the line of best fit\n",
    "first_point = [20,40]\n",
    "second_point = [100, 95]\n",
    "\n",
    "# Solve \n",
    "def get_line_equation(p1, p2):\n",
    "    \"\"\"\n",
    "    Solve the system of equations:\n",
    "    y1 = m*x1 + b\n",
    "    y2 = m*x2 + b\n",
    "    \n",
    "    Input:\n",
    "    p1: first point [x1, y1]\n",
    "    p2: second point [x2, y2]\n",
    "    \n",
    "    returns: slope, intercept\n",
    "    \"\"\"\n",
    "    X = [[p1[0], 1], [p2[0], 1]]\n",
    "    y = [[p1[1]], [p2[1]]]\n",
    "    soln = np.linalg.solve(X,y)\n",
    "    return  soln[0][0], soln[1][0]\n",
    "\n",
    "slope, intercept = get_line_equation(first_point, second_point)"
   ]
  },
  {
   "cell_type": "code",
   "execution_count": 42,
   "metadata": {
    "collapsed": false
   },
   "outputs": [
    {
     "data": {
      "image/png": "[encoded data removed]",
      "text/plain": [
       "<matplotlib.figure.Figure at 0x10c19d350>"
      ]
     },
     "metadata": {},
     "output_type": "display_data"
    }
   ],
   "source": [
    "plt.scatter(Office['ENERGY_STAR_Score'], result.predict())\n",
    "xx = np.linspace(0, 110, 100)\n",
    "plt.plot(xx, xx*slope + intercept, color='red', lw=3)\n",
    "plt.show()"
   ]
  },
  {
   "cell_type": "markdown",
   "metadata": {},
   "source": [
    "Requests:\n",
    "\n",
    "- Missing gaps need to be filled out, especially property type\n",
    " \n",
    "- for now, there is only enough data for a regression line for office buildings\n",
    "\n",
    "- further tweaking would be needed to make this code robust\n",
    "\n",
    "- if there is better and more complete data that is not published that would be helped as well"
   ]
  },
  {
   "cell_type": "markdown",
   "metadata": {},
   "source": [
    "Or:\n",
    "\n",
    "https://www.energystar.gov/buildings/service-providers/design/step-step-process/evaluate-target/epa%E2%80%99s-target-finder-calculator"
   ]
  }
 ],
 "metadata": {
  "kernelspec": {
   "display_name": "Python 2",
   "language": "python",
   "name": "python2"
  },
  "language_info": {
   "codemirror_mode": {
    "name": "ipython",
    "version": 2
   },
   "file_extension": ".py",
   "mimetype": "text/x-python",
   "name": "python",
   "nbconvert_exporter": "python",
   "pygments_lexer": "ipython2",
   "version": "2.7.11"
  }
 },
 "nbformat": 4,
 "nbformat_minor": 0
}
